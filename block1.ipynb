{
 "cells": [
  {
   "cell_type": "code",
   "execution_count": 7,
   "id": "bcada10f",
   "metadata": {},
   "outputs": [],
   "source": [
    "import (\n",
    "\t\"fmt\"\n",
    "\t\"log\"\n",
    "\t\"gonum.org/v1/gonum/mat\"\n",
    ")"
   ]
  },
  {
   "cell_type": "markdown",
   "id": "ce59b4a0",
   "metadata": {},
   "source": [
    "### 🔹 Урок 1: Линейная алгебра — векторы и скалярное произведение\n",
    "\n",
    "#### 📘 Теория:\n",
    "\n",
    "Вектор — это упорядоченный набор чисел, например:\n",
    "`A = [1, 2, 3]` — вектор в 3D пространстве.\n",
    "\n",
    "Скалярное произведение (dot product) двух векторов:\n",
    "\n",
    "```text\n",
    "A • B = A₁*B₁ + A₂*B₂ + A₃*B₃\n",
    "```\n",
    "\n",
    "Если угол между ними острый → скалярное произведение положительное.\n",
    "Если прямой угол → ноль.\n",
    "Если тупой угол → отрицательное."
   ]
  },
  {
   "cell_type": "code",
   "execution_count": null,
   "id": "43a7695b",
   "metadata": {},
   "outputs": [],
   "source": [
    "import (\n",
    "\t\"fmt\"\n",
    "\t\"log\"\n",
    ")\n",
    "\n",
    "func dotProduct(a, b []float64) float64 {\n",
    "\tif len(a) != len(b) {\n",
    "\t\tlog.Fatal(\"Векторы должны быть равны\")\n",
    "\t}\n",
    "\tvar product float64\n",
    "\tfor i := 0; i < len(a); i++ {\n",
    "\t\tproduct += a[i] * b[i]\n",
    "\t}\n",
    "\treturn product\n",
    "}"
   ]
  },
  {
   "cell_type": "code",
   "execution_count": null,
   "id": "b9f03f75",
   "metadata": {},
   "outputs": [],
   "source": [
    "vec1 := []float64{1, 2, 3}\n",
    "vec2 := []float64{4, 5, 6}\n",
    "fmt.Println(\"Скалярное произведение:\", dotProduct(vec1, vec2))"
   ]
  },
  {
   "cell_type": "markdown",
   "id": "aee4643d",
   "metadata": {},
   "source": [
    "### 🔹 Урок 2: Матрицы и умножение матриц\n",
    "\n",
    "---\n",
    "\n",
    "#### 📘 Теория:\n",
    "\n",
    "**Матрица** — это таблица чисел, например:\n",
    "\n",
    "```\n",
    "A =  | 1  2 |\n",
    "     | 3  4 |\n",
    "\n",
    "B =  | 5  6 |\n",
    "     | 7  8 |\n",
    "```\n",
    "\n",
    "Чтобы перемножить две матрицы `A` и `B`, нужно:\n",
    "\n",
    "* Количество **столбцов в A** должно = количеству **строк в B**.\n",
    "* Результат — новая матрица размером `(строки A) x (столбцы B)`.\n",
    "\n",
    "Каждый элемент результата вычисляется как **скалярное произведение** строки `A` и столбца `B`.\n"
   ]
  },
  {
   "cell_type": "code",
   "execution_count": 6,
   "id": "aed22bd3",
   "metadata": {},
   "outputs": [
    {
     "name": "stdout",
     "output_type": "stream",
     "text": [
      "Результат умножения:\n",
      "[19 22 34 29]\n",
      "[43 50 80 67]\n",
      "[123 144 243 198]\n",
      "[146 170 275 229]\n"
     ]
    }
   ],
   "source": [
    "func multiplyMatrices(a, b [][]float64) [][]float64 {\n",
    "\trowsA := len(a)\n",
    "\trowsB := len(b)\n",
    "\tcolsA := len(a[0])\n",
    "\tcolsB := len(b[0])\n",
    "\n",
    "\tif colsA != rowsB {\n",
    "\t\tlog.Fatal(\"Несоответствие размеров матриц\")\n",
    "\t}\n",
    "\n",
    "\tresult := make([][]float64, rowsA)\n",
    "\tfor i := range result {\n",
    "\t\tresult[i] = make([]float64, colsB)\n",
    "\t}\n",
    "\n",
    "\tfor i := 0; i < rowsA; i++ {\n",
    "\t\tfor j := 0; j < colsB; j++ {\n",
    "\t\t\tvar sum float64\n",
    "\t\t\tfor k := 0; k < colsA; k++ {\n",
    "\t\t\t\tsum += a[i][k] * b[k][j]\n",
    "\t\t\t}\n",
    "\t\t\tresult[i][j] = sum\n",
    "\t\t}\n",
    "\t}\n",
    "\treturn result\n",
    "}\n",
    "\n",
    "a := [][]float64{\n",
    "\t{1, 2},\n",
    "\t{3, 4},\n",
    "\t{12, 9},\n",
    "\t{11, 13},\n",
    "}\n",
    "\n",
    "b := [][]float64{\n",
    "\t{5, 6, 12, 9},\n",
    "\t{7, 8, 11, 10},\n",
    "}\n",
    "\n",
    "result := multiplyMatrices(a, b)\n",
    "\n",
    "fmt.Println(\"Результат умножения:\")\n",
    "for _, row := range result {\n",
    "\tfmt.Println(row)\n",
    "}"
   ]
  },
  {
   "cell_type": "markdown",
   "id": "a646a7dc",
   "metadata": {},
   "source": [
    "### 🔹 Урок 3: Работа с `gonum/mat` — базовые векторы и матрицы\n",
    "\n",
    "---\n",
    "\n",
    "#### 📘 Теория:\n",
    "\n",
    "[`gonum/mat`](https://pkg.go.dev/gonum.org/v1/gonum/mat) — это основной пакет для линейной алгебры в Go.\n",
    "\n",
    "В нём есть:\n",
    "\n",
    "* `mat.NewVecDense` — создание вектора.\n",
    "* `mat.NewDense` — создание матрицы.\n",
    "* Методы вроде `Dot`, `Mul`, `T()` — для операций.\n",
    "\n",
    "\n"
   ]
  }
 ],
 "metadata": {
  "kernelspec": {
   "display_name": "Go",
   "language": "go",
   "name": "gophernotes_kernelspec"
  },
  "language_info": {
   "codemirror_mode": "",
   "file_extension": ".go",
   "mimetype": "",
   "name": "go",
   "nbconvert_exporter": "",
   "pygments_lexer": "",
   "version": "go1.23.0"
  }
 },
 "nbformat": 4,
 "nbformat_minor": 5
}
