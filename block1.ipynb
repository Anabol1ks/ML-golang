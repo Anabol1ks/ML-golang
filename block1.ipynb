{
 "cells": [
  {
   "cell_type": "code",
   "execution_count": 2,
   "id": "bcada10f",
   "metadata": {},
   "outputs": [],
   "source": [
    "import (\n",
    "\t\"fmt\"\n",
    "\t\"log\"\n",
    ")"
   ]
  },
  {
   "cell_type": "markdown",
   "id": "ce59b4a0",
   "metadata": {},
   "source": [
    "### 🔹 Урок 1: Линейная алгебра — векторы и скалярное произведение\n",
    "\n",
    "#### 📘 Теория:\n",
    "\n",
    "Вектор — это упорядоченный набор чисел, например:\n",
    "`A = [1, 2, 3]` — вектор в 3D пространстве.\n",
    "\n",
    "Скалярное произведение (dot product) двух векторов:\n",
    "\n",
    "```text\n",
    "A • B = A₁*B₁ + A₂*B₂ + A₃*B₃\n",
    "```\n",
    "\n",
    "Если угол между ними острый → скалярное произведение положительное.\n",
    "Если прямой угол → ноль.\n",
    "Если тупой угол → отрицательное."
   ]
  },
  {
   "cell_type": "code",
   "execution_count": 10,
   "id": "5365bd64",
   "metadata": {},
   "outputs": [],
   "source": [
    "import (\n",
    "\t\"fmt\"\n",
    "\t\"log\"\n",
    ")\n",
    "\n",
    "func dotProduct(a, b []float64) float64 {\n",
    "\tif len(a) != len(b) {\n",
    "\t\tlog.Fatal(\"Векторы должны быть равны\")\n",
    "\t}\n",
    "\tvar product float64\n",
    "\tfor i := 0; i < len(a); i++ {\n",
    "\t\tfmt.Println(\"ddd\",a[i]*b[i])\n",
    "\t\tproduct += a[i] * b[i]\n",
    "\t}\n",
    "\treturn product\n",
    "}"
   ]
  },
  {
   "cell_type": "code",
   "execution_count": 11,
   "id": "b9f03f75",
   "metadata": {},
   "outputs": [
    {
     "name": "stdout",
     "output_type": "stream",
     "text": [
      "ddd 4\n",
      "ddd 10\n",
      "ddd 18\n",
      "Скалярное произведение: 32\n"
     ]
    },
    {
     "data": {
      "text/plain": [
       "48 <nil>"
      ]
     },
     "execution_count": 11,
     "metadata": {},
     "output_type": "execute_result"
    }
   ],
   "source": [
    "vec1 := []float64{1, 2, 3}\n",
    "vec2 := []float64{4, 5, 6}\n",
    "fmt.Println(\"Скалярное произведение:\", dotProduct(vec1, vec2))"
   ]
  }
 ],
 "metadata": {
  "kernelspec": {
   "display_name": "Go",
   "language": "go",
   "name": "gophernotes_kernelspec"
  },
  "language_info": {
   "codemirror_mode": "",
   "file_extension": ".go",
   "mimetype": "",
   "name": "go",
   "nbconvert_exporter": "",
   "pygments_lexer": "",
   "version": "go1.23.0"
  }
 },
 "nbformat": 4,
 "nbformat_minor": 5
}
